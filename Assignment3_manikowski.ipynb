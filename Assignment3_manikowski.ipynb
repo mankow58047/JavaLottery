{
  "nbformat": 4,
  "nbformat_minor": 0,
  "metadata": {
    "colab": {
      "provenance": [],
      "history_visible": true,
      "authorship_tag": "ABX9TyMykdgdv2h8PMvlijdtDxyy",
      "include_colab_link": true
    },
    "kernelspec": {
      "name": "python3",
      "display_name": "Python 3"
    },
    "language_info": {
      "name": "python"
    }
  },
  "cells": [
    {
      "cell_type": "markdown",
      "metadata": {
        "id": "view-in-github",
        "colab_type": "text"
      },
      "source": [
        "<a href=\"https://colab.research.google.com/github/mankow58047/JavaLottery/blob/main/Assignment3_manikowski.ipynb\" target=\"_parent\"><img src=\"https://colab.research.google.com/assets/colab-badge.svg\" alt=\"Open In Colab\"/></a>"
      ]
    },
    {
      "cell_type": "markdown",
      "source": [
        "## Install packages and import libraries"
      ],
      "metadata": {
        "id": "umvufJCR7kYa"
      }
    },
    {
      "cell_type": "code",
      "execution_count": 1,
      "metadata": {
        "id": "d40HyCQIpkTi"
      },
      "outputs": [],
      "source": [
        "!pip install -q seaborn\n"
      ]
    },
    {
      "cell_type": "code",
      "source": [
        "import tensorflow as tf\n",
        "\n",
        "from tensorflow import keras\n",
        "from tensorflow.keras import layers\n",
        "from tensorflow.python.keras.layers import Dense\n",
        "\n",
        "from matplotlib import pyplot\n",
        "import numpy as np\n",
        "import pandas as pd\n",
        "import seaborn as sns\n",
        "import io"
      ],
      "metadata": {
        "id": "4I8uwvpk1gjB"
      },
      "execution_count": 96,
      "outputs": []
    },
    {
      "cell_type": "markdown",
      "source": [
        "## Load data set"
      ],
      "metadata": {
        "id": "2weUYGb17Pk7"
      }
    },
    {
      "cell_type": "code",
      "source": [
        "url = 'http://www.cs.ndsu.nodak.edu/~siludwig/regressiondataset.csv'\n",
        "raw_dataset = pd.read_csv(url,\n",
        " na_values='?', comment='\\t',\n",
        " sep=',', skipinitialspace=True)"
      ],
      "metadata": {
        "id": "cC4WLq3O2d6q"
      },
      "execution_count": 97,
      "outputs": []
    },
    {
      "cell_type": "code",
      "source": [
        "dataset = raw_dataset.copy()\n",
        "dataset = dataset.dropna()\n",
        "train_dataset = dataset.sample(frac=0.85, random_state=0)\n",
        "test_dataset = dataset.drop(train_dataset.index)\n",
        "train_data = train_dataset.copy()\n",
        "test_data = test_dataset.copy()\n",
        "train_X = train_data.iloc[:,:-1]\n",
        "test_X = test_data.iloc[:,:-1]\n",
        "train_Y = train_data.iloc[:,-1:]\n",
        "test_Y = test_data.iloc[:,-1:]\n"
      ],
      "metadata": {
        "id": "sSY4fk19ykEz"
      },
      "execution_count": 98,
      "outputs": []
    },
    {
      "cell_type": "markdown",
      "source": [
        "#Normalize data"
      ],
      "metadata": {
        "id": "Us0PtyN8oiMi"
      }
    },
    {
      "cell_type": "code",
      "source": [
        "normalizer = tf.keras.layers.Normalization(axis=-1)"
      ],
      "metadata": {
        "id": "c_2qxz7ponhO"
      },
      "execution_count": 99,
      "outputs": []
    },
    {
      "cell_type": "code",
      "source": [
        "normalizer.adapt(np.array(train_X))\n",
        "print(normalizer.mean.numpy())"
      ],
      "metadata": {
        "colab": {
          "base_uri": "https://localhost:8080/"
        },
        "id": "l0duFnttouqO",
        "outputId": "45a7edc2-78de-4a87-f7a8-dc9b84649ae9"
      },
      "execution_count": 100,
      "outputs": [
        {
          "output_type": "stream",
          "name": "stdout",
          "text": [
            "[[8.54791565e+01 6.11369400e+01 6.46662979e+01 4.18292427e+01\n",
            "  1.39784408e+00 1.33534825e+00 1.46700104e+02 2.41042900e+01\n",
            "  5.31001778e+01 5.16953239e+01 7.75787720e+02 9.58372681e+02\n",
            "  7.29436035e+02 8.97891541e+02 1.54501724e+00 1.03010702e+00\n",
            "  8.00688538e+02 6.04611084e+02 2.92081299e+02 3.25399384e+02\n",
            "  1.61308990e+02 1.20666466e+02 1.41022690e+02 9.91362000e+01\n",
            "  1.50645173e+00 1.41052365e+00 3.68324699e+01 6.73249130e+01\n",
            "  7.15343475e+01 4.94707129e+03 3.49174390e+03 1.03686523e+03\n",
            "  3.98796509e+02 1.24841416e+00 9.84236121e-01 9.92039160e+03\n",
            "  2.03500867e+03 3.63913477e+03 3.79857935e+03 7.26312485e+01\n",
            "  1.02154869e+02 4.45753593e+01 7.56496735e+01 1.27002323e+00\n",
            "  8.45462203e-01 1.36980743e+02 6.99079666e+01 5.41810570e+01\n",
            "  5.07435265e+01 8.39590549e+00 5.94213676e+00 4.44853592e+00\n",
            "  2.38056159e+00 1.33180368e+00 1.15525639e+00 3.11193371e+00\n",
            "  5.66478062e+00 5.56502724e+00 1.05928734e+02 9.50569916e+01\n",
            "  1.20034790e+01 6.44965839e+00 7.06719697e-01 4.41082716e-01\n",
            "  3.89567627e+02 8.28857346e+01 1.49630981e+02 1.51448517e+02\n",
            "  2.23087239e+00 2.34411526e+00 2.16960645e+00 1.56510627e+00\n",
            "  1.29898083e+00 9.65733647e-01 7.26542771e-01 5.25454402e-01]]\n"
          ]
        }
      ]
    },
    {
      "cell_type": "code",
      "source": [
        "first = np.array(train_X[:1])\n",
        "\n",
        "with np.printoptions(precision=2, suppress=True):\n",
        "  print('First example:', first)\n",
        "  print()\n",
        "  print('Normalized:', normalizer(first).numpy())"
      ],
      "metadata": {
        "colab": {
          "base_uri": "https://localhost:8080/"
        },
        "id": "Qg9J8bXHpAYW",
        "outputId": "99d24533-e174-4566-9d7d-735afe9deab3"
      },
      "execution_count": 101,
      "outputs": [
        {
          "output_type": "stream",
          "name": "stdout",
          "text": [
            "First example: [[  76.52   57.09   59.31   35.87    1.2     0.95  122.91   36.1    44.29\n",
            "    52.84  787.05 1011.5   734.22  940.22    1.31    0.78  772.    741.64\n",
            "   314.51  353.88  151.75  104.24  131.3    84.06    1.28    1.13   49.15\n",
            "    65.58   66.91 4434.36 2981.06  674.48   53.68    1.      0.75 8958.57\n",
            "  1657.73 3402.86 3589.59   79.61  112.02   48.48   99.53    1.1     0.78\n",
            "   135.97   81.33   54.37   42.08    6.91    3.83    3.48    1.04    1.09\n",
            "     0.94    1.74    4.6     4.65  112.01   61.22    8.34    0.63    0.4\n",
            "     0.27  399.97   57.13  166.74  138.47    2.27    2.21    2.23    1.37\n",
            "     1.03    1.11    0.43    0.44]]\n",
            "\n",
            "Normalized: [[-0.6  -0.26 -0.49 -0.41 -1.04 -1.82 -0.7   1.04 -0.71  0.1   0.23  0.5\n",
            "   0.11  0.46 -1.21 -0.97 -0.56  0.73  0.78  0.66 -0.78 -0.76 -0.87 -0.63\n",
            "  -1.15 -1.56  0.82 -0.21 -0.49 -0.55 -0.48 -0.92 -0.46 -1.1  -1.04 -0.48\n",
            "  -0.57 -0.31 -0.46  0.55  0.66  0.24  1.14 -1.02 -0.39 -0.03  0.71  0.02\n",
            "  -1.01 -0.43 -0.38 -0.79 -0.27 -1.   -1.05 -0.25 -0.22 -0.35  0.32 -0.88\n",
            "  -0.58 -0.41 -1.05 -0.68  0.19 -0.76  0.74 -0.44  0.16 -0.55  0.34 -1.07\n",
            "  -1.46  0.61 -0.72 -0.23]]\n"
          ]
        }
      ]
    },
    {
      "cell_type": "code",
      "source": [
        "linear_model = tf.keras.Sequential([\n",
        "    normalizer,\n",
        "    layers.Dense(units=1)\n",
        "])\n",
        "\n",
        "linear_model.summary()"
      ],
      "metadata": {
        "colab": {
          "base_uri": "https://localhost:8080/"
        },
        "id": "WriH_7UZpiM9",
        "outputId": "4ad0d374-9eb0-4a87-a487-1483e8543cb7"
      },
      "execution_count": 103,
      "outputs": [
        {
          "output_type": "stream",
          "name": "stdout",
          "text": [
            "Model: \"sequential_7\"\n",
            "_________________________________________________________________\n",
            " Layer (type)                Output Shape              Param #   \n",
            "=================================================================\n",
            " normalization_1 (Normalizat  (None, 76)               153       \n",
            " ion)                                                            \n",
            "                                                                 \n",
            " dense_15 (Dense)            (None, 1)                 77        \n",
            "                                                                 \n",
            "=================================================================\n",
            "Total params: 230\n",
            "Trainable params: 77\n",
            "Non-trainable params: 153\n",
            "_________________________________________________________________\n"
          ]
        }
      ]
    },
    {
      "cell_type": "code",
      "source": [
        "linear_model.predict(train_X[:10])"
      ],
      "metadata": {
        "colab": {
          "base_uri": "https://localhost:8080/"
        },
        "id": "zj394is9pmbv",
        "outputId": "d8673ddc-785e-46a8-a4d4-fc46d3ad1a36"
      },
      "execution_count": 104,
      "outputs": [
        {
          "output_type": "stream",
          "name": "stdout",
          "text": [
            "1/1 [==============================] - 0s 61ms/step\n"
          ]
        },
        {
          "output_type": "execute_result",
          "data": {
            "text/plain": [
              "array([[ 0.11557   ],\n",
              "       [-0.7833826 ],\n",
              "       [-0.86925894],\n",
              "       [ 0.5705761 ],\n",
              "       [-1.0911028 ],\n",
              "       [ 0.08117306],\n",
              "       [-0.32699102],\n",
              "       [-1.4276375 ],\n",
              "       [ 3.0623472 ],\n",
              "       [-0.00372398]], dtype=float32)"
            ]
          },
          "metadata": {},
          "execution_count": 104
        }
      ]
    },
    {
      "cell_type": "markdown",
      "source": [
        "#TO DO: Fit, Evaluate, Predict, Plot"
      ],
      "metadata": {
        "id": "j8E37KpNQbwY"
      }
    },
    {
      "cell_type": "markdown",
      "source": [
        "##Plots, etc."
      ],
      "metadata": {
        "id": "XI26dLJDF4U3"
      }
    },
    {
      "cell_type": "code",
      "source": [
        "def plot_loss(history):\n",
        "  pyplot.plot(history.history['loss'], label='loss')\n",
        "  pyplot.plot(history.history['val_loss'], label='val_loss')\n",
        "  pyplot.ylim([0, 40])\n",
        "  pyplot.xlabel('Epoch')\n",
        "  pyplot.ylabel('Error')\n",
        "  pyplot.legend()\n",
        "  pyplot.grid(True)"
      ],
      "metadata": {
        "id": "6sXWT-DYF3ef"
      },
      "execution_count": null,
      "outputs": []
    },
    {
      "cell_type": "markdown",
      "source": [
        "##maybe not"
      ],
      "metadata": {
        "id": "2lrGIMPY4x3p"
      }
    },
    {
      "cell_type": "code",
      "source": [
        "linear_model.compile(\n",
        "    optimizer=tf.keras.optimizers.Adam(learning_rate=.01),\n",
        "    loss='mean_absolute_error'\n",
        ")"
      ],
      "metadata": {
        "id": "Of7kxMbjaW9z"
      },
      "execution_count": 72,
      "outputs": []
    },
    {
      "cell_type": "code",
      "source": [
        "history = linear_model.fit(\n",
        "    train_X,\n",
        "    train_Y, \n",
        "    epochs=100,\n",
        "    verbose=0,\n",
        "    validation_split=.02\n",
        ")"
      ],
      "metadata": {
        "id": "o_ublvhL1ngG"
      },
      "execution_count": 73,
      "outputs": []
    },
    {
      "cell_type": "code",
      "source": [
        "hist = pd.DataFrame(history.history)\n",
        "hist['epoch'] = history.epoch\n",
        "hist.tail()"
      ],
      "metadata": {
        "colab": {
          "base_uri": "https://localhost:8080/",
          "height": 206
        },
        "id": "rnebd7BC2jw6",
        "outputId": "38f972c3-6ca9-46f5-bf06-8f8e0912cb7e"
      },
      "execution_count": 74,
      "outputs": [
        {
          "output_type": "execute_result",
          "data": {
            "text/plain": [
              "         loss   val_loss  epoch\n",
              "95  15.351204  14.703602     95\n",
              "96  15.350262  14.619049     96\n",
              "97  15.364980  14.652716     97\n",
              "98  15.356421  14.640827     98\n",
              "99  15.349932  14.719771     99"
            ],
            "text/html": [
              "\n",
              "  <div id=\"df-ec8d8e54-7792-4a04-a136-62c968464295\">\n",
              "    <div class=\"colab-df-container\">\n",
              "      <div>\n",
              "<style scoped>\n",
              "    .dataframe tbody tr th:only-of-type {\n",
              "        vertical-align: middle;\n",
              "    }\n",
              "\n",
              "    .dataframe tbody tr th {\n",
              "        vertical-align: top;\n",
              "    }\n",
              "\n",
              "    .dataframe thead th {\n",
              "        text-align: right;\n",
              "    }\n",
              "</style>\n",
              "<table border=\"1\" class=\"dataframe\">\n",
              "  <thead>\n",
              "    <tr style=\"text-align: right;\">\n",
              "      <th></th>\n",
              "      <th>loss</th>\n",
              "      <th>val_loss</th>\n",
              "      <th>epoch</th>\n",
              "    </tr>\n",
              "  </thead>\n",
              "  <tbody>\n",
              "    <tr>\n",
              "      <th>95</th>\n",
              "      <td>15.351204</td>\n",
              "      <td>14.703602</td>\n",
              "      <td>95</td>\n",
              "    </tr>\n",
              "    <tr>\n",
              "      <th>96</th>\n",
              "      <td>15.350262</td>\n",
              "      <td>14.619049</td>\n",
              "      <td>96</td>\n",
              "    </tr>\n",
              "    <tr>\n",
              "      <th>97</th>\n",
              "      <td>15.364980</td>\n",
              "      <td>14.652716</td>\n",
              "      <td>97</td>\n",
              "    </tr>\n",
              "    <tr>\n",
              "      <th>98</th>\n",
              "      <td>15.356421</td>\n",
              "      <td>14.640827</td>\n",
              "      <td>98</td>\n",
              "    </tr>\n",
              "    <tr>\n",
              "      <th>99</th>\n",
              "      <td>15.349932</td>\n",
              "      <td>14.719771</td>\n",
              "      <td>99</td>\n",
              "    </tr>\n",
              "  </tbody>\n",
              "</table>\n",
              "</div>\n",
              "      <button class=\"colab-df-convert\" onclick=\"convertToInteractive('df-ec8d8e54-7792-4a04-a136-62c968464295')\"\n",
              "              title=\"Convert this dataframe to an interactive table.\"\n",
              "              style=\"display:none;\">\n",
              "        \n",
              "  <svg xmlns=\"http://www.w3.org/2000/svg\" height=\"24px\"viewBox=\"0 0 24 24\"\n",
              "       width=\"24px\">\n",
              "    <path d=\"M0 0h24v24H0V0z\" fill=\"none\"/>\n",
              "    <path d=\"M18.56 5.44l.94 2.06.94-2.06 2.06-.94-2.06-.94-.94-2.06-.94 2.06-2.06.94zm-11 1L8.5 8.5l.94-2.06 2.06-.94-2.06-.94L8.5 2.5l-.94 2.06-2.06.94zm10 10l.94 2.06.94-2.06 2.06-.94-2.06-.94-.94-2.06-.94 2.06-2.06.94z\"/><path d=\"M17.41 7.96l-1.37-1.37c-.4-.4-.92-.59-1.43-.59-.52 0-1.04.2-1.43.59L10.3 9.45l-7.72 7.72c-.78.78-.78 2.05 0 2.83L4 21.41c.39.39.9.59 1.41.59.51 0 1.02-.2 1.41-.59l7.78-7.78 2.81-2.81c.8-.78.8-2.07 0-2.86zM5.41 20L4 18.59l7.72-7.72 1.47 1.35L5.41 20z\"/>\n",
              "  </svg>\n",
              "      </button>\n",
              "      \n",
              "  <style>\n",
              "    .colab-df-container {\n",
              "      display:flex;\n",
              "      flex-wrap:wrap;\n",
              "      gap: 12px;\n",
              "    }\n",
              "\n",
              "    .colab-df-convert {\n",
              "      background-color: #E8F0FE;\n",
              "      border: none;\n",
              "      border-radius: 50%;\n",
              "      cursor: pointer;\n",
              "      display: none;\n",
              "      fill: #1967D2;\n",
              "      height: 32px;\n",
              "      padding: 0 0 0 0;\n",
              "      width: 32px;\n",
              "    }\n",
              "\n",
              "    .colab-df-convert:hover {\n",
              "      background-color: #E2EBFA;\n",
              "      box-shadow: 0px 1px 2px rgba(60, 64, 67, 0.3), 0px 1px 3px 1px rgba(60, 64, 67, 0.15);\n",
              "      fill: #174EA6;\n",
              "    }\n",
              "\n",
              "    [theme=dark] .colab-df-convert {\n",
              "      background-color: #3B4455;\n",
              "      fill: #D2E3FC;\n",
              "    }\n",
              "\n",
              "    [theme=dark] .colab-df-convert:hover {\n",
              "      background-color: #434B5C;\n",
              "      box-shadow: 0px 1px 3px 1px rgba(0, 0, 0, 0.15);\n",
              "      filter: drop-shadow(0px 1px 2px rgba(0, 0, 0, 0.3));\n",
              "      fill: #FFFFFF;\n",
              "    }\n",
              "  </style>\n",
              "\n",
              "      <script>\n",
              "        const buttonEl =\n",
              "          document.querySelector('#df-ec8d8e54-7792-4a04-a136-62c968464295 button.colab-df-convert');\n",
              "        buttonEl.style.display =\n",
              "          google.colab.kernel.accessAllowed ? 'block' : 'none';\n",
              "\n",
              "        async function convertToInteractive(key) {\n",
              "          const element = document.querySelector('#df-ec8d8e54-7792-4a04-a136-62c968464295');\n",
              "          const dataTable =\n",
              "            await google.colab.kernel.invokeFunction('convertToInteractive',\n",
              "                                                     [key], {});\n",
              "          if (!dataTable) return;\n",
              "\n",
              "          const docLinkHtml = 'Like what you see? Visit the ' +\n",
              "            '<a target=\"_blank\" href=https://colab.research.google.com/notebooks/data_table.ipynb>data table notebook</a>'\n",
              "            + ' to learn more about interactive tables.';\n",
              "          element.innerHTML = '';\n",
              "          dataTable['output_type'] = 'display_data';\n",
              "          await google.colab.output.renderOutput(dataTable, element);\n",
              "          const docLink = document.createElement('div');\n",
              "          docLink.innerHTML = docLinkHtml;\n",
              "          element.appendChild(docLink);\n",
              "        }\n",
              "      </script>\n",
              "    </div>\n",
              "  </div>\n",
              "  "
            ]
          },
          "metadata": {},
          "execution_count": 74
        }
      ]
    },
    {
      "cell_type": "code",
      "source": [
        "def plot_loss(history):\n",
        "  pyplot.plot(history.history['loss'], label='loss')\n",
        "  pyplot.plot(history.history['val_loss'], label='val_loss')\n",
        "  pyplot.ylim([0, 40])\n",
        "  pyplot.xlabel('Epoch')\n",
        "  pyplot.ylabel('Error')\n",
        "  pyplot.legend()\n",
        "  pyplot.grid(True)"
      ],
      "metadata": {
        "id": "eun7fd2N3E9V"
      },
      "execution_count": 150,
      "outputs": []
    },
    {
      "cell_type": "code",
      "source": [
        "plot_loss(history)"
      ],
      "metadata": {
        "colab": {
          "base_uri": "https://localhost:8080/",
          "height": 455
        },
        "id": "rWkmsMcw3v6r",
        "outputId": "7a9475f9-b4ce-4d26-e17c-817b2f8b6a8f"
      },
      "execution_count": 131,
      "outputs": [
        {
          "output_type": "display_data",
          "data": {
            "text/plain": [
              "<Figure size 640x480 with 1 Axes>"
            ],
            "image/png": "[encoded data removed]"
          },
          "metadata": {}
        }
      ]
    },
    {
      "cell_type": "code",
      "source": [],
      "metadata": {
        "id": "0PbD9RFy41zt"
      },
      "execution_count": null,
      "outputs": []
    },
    {
      "cell_type": "markdown",
      "source": [
        "##Experiment 1\n",
        "- Sequential \n",
        "- adam\n",
        "- relu"
      ],
      "metadata": {
        "id": "i-uFO5URGg52"
      }
    },
    {
      "cell_type": "code",
      "source": [
        "def build_and_compile_model(norm):\n",
        "  model = keras.Sequential([\n",
        "      norm,\n",
        "      layers.Dense(76, activation='relu'),\n",
        "      layers.Dense(76, activation='relu'),\n",
        "      layers.Dense(1)\n",
        "  ])\n",
        "\n",
        "  model.compile(loss='mean_absolute_error',\n",
        "                optimizer=tf.keras.optimizers.Adam(0.001))\n",
        "  return model"
      ],
      "metadata": {
        "id": "XDExvSnx5pn_"
      },
      "execution_count": 159,
      "outputs": []
    },
    {
      "cell_type": "code",
      "source": [
        "dnn_model = build_and_compile_model(normalizer)"
      ],
      "metadata": {
        "id": "G47Tc5_647LW"
      },
      "execution_count": 160,
      "outputs": []
    },
    {
      "cell_type": "code",
      "source": [
        "dnn_model.summary()"
      ],
      "metadata": {
        "colab": {
          "base_uri": "https://localhost:8080/"
        },
        "id": "pGcODNur54CH",
        "outputId": "7171594b-dcfa-4072-8ad2-41b8ce8f5264"
      },
      "execution_count": 161,
      "outputs": [
        {
          "output_type": "stream",
          "name": "stdout",
          "text": [
            "Model: \"sequential_15\"\n",
            "_________________________________________________________________\n",
            " Layer (type)                Output Shape              Param #   \n",
            "=================================================================\n",
            " normalization_1 (Normalizat  (None, 76)               153       \n",
            " ion)                                                            \n",
            "                                                                 \n",
            " dense_37 (Dense)            (None, 76)                5852      \n",
            "                                                                 \n",
            " dense_38 (Dense)            (None, 76)                5852      \n",
            "                                                                 \n",
            " dense_39 (Dense)            (None, 1)                 77        \n",
            "                                                                 \n",
            "=================================================================\n",
            "Total params: 11,934\n",
            "Trainable params: 11,781\n",
            "Non-trainable params: 153\n",
            "_________________________________________________________________\n"
          ]
        }
      ]
    },
    {
      "cell_type": "code",
      "source": [
        "%%time\n",
        "history = dnn_model.fit(\n",
        "    train_X,\n",
        "    train_Y,\n",
        "    validation_split=0.2,\n",
        "    verbose=0, epochs=100)"
      ],
      "metadata": {
        "colab": {
          "base_uri": "https://localhost:8080/"
        },
        "id": "RXWVOHzs7B-P",
        "outputId": "604f8d27-0f43-4d46-a56d-b3749c7d0dc8"
      },
      "execution_count": 162,
      "outputs": [
        {
          "output_type": "stream",
          "name": "stdout",
          "text": [
            "CPU times: user 48.6 s, sys: 2.49 s, total: 51.1 s\n",
            "Wall time: 43.6 s\n"
          ]
        }
      ]
    },
    {
      "cell_type": "code",
      "source": [
        "plot_loss(history)"
      ],
      "metadata": {
        "colab": {
          "base_uri": "https://localhost:8080/",
          "height": 455
        },
        "id": "56v0F8aP7Tyw",
        "outputId": "74b250aa-c45f-49ec-f627-b6bd78c85ff7"
      },
      "execution_count": 163,
      "outputs": [
        {
          "output_type": "display_data",
          "data": {
            "text/plain": [
              "<Figure size 640x480 with 1 Axes>"
            ],
            "image/png": "[encoded data removed]"
          },
          "metadata": {}
        }
      ]
    },
    {
      "cell_type": "markdown",
      "source": [
        "##Experiment 2\n",
        "- Sequential \n",
        "- adafactor\n",
        "- relu"
      ],
      "metadata": {
        "id": "Y1yEcXKtGyCY"
      }
    },
    {
      "cell_type": "code",
      "source": [
        "def build_and_compile_model(norm):\n",
        "  model = keras.Sequential([\n",
        "      norm,\n",
        "      layers.Dense(76, activation='relu'),\n",
        "      layers.Dense(76, activation='relu'),\n",
        "      layers.Dense(1)\n",
        "  ])\n",
        "\n",
        "  model.compile(loss='mean_absolute_error',\n",
        "                optimizer=tf.keras.optimizers.Adafactor(0.001))\n",
        "  return model"
      ],
      "metadata": {
        "id": "s0IHDSluG4xT"
      },
      "execution_count": 167,
      "outputs": []
    },
    {
      "cell_type": "code",
      "source": [
        "dnn_model = build_and_compile_model(normalizer)"
      ],
      "metadata": {
        "id": "Dvj66kMiIIDF"
      },
      "execution_count": 168,
      "outputs": []
    },
    {
      "cell_type": "code",
      "source": [
        "dnn_model.summary()"
      ],
      "metadata": {
        "colab": {
          "base_uri": "https://localhost:8080/"
        },
        "id": "4hd6UvUjILrB",
        "outputId": "1fcfdab5-9925-41cb-a28e-50bff2e67744"
      },
      "execution_count": 169,
      "outputs": [
        {
          "output_type": "stream",
          "name": "stdout",
          "text": [
            "Model: \"sequential_17\"\n",
            "_________________________________________________________________\n",
            " Layer (type)                Output Shape              Param #   \n",
            "=================================================================\n",
            " normalization_1 (Normalizat  (None, 76)               153       \n",
            " ion)                                                            \n",
            "                                                                 \n",
            " dense_43 (Dense)            (None, 76)                5852      \n",
            "                                                                 \n",
            " dense_44 (Dense)            (None, 76)                5852      \n",
            "                                                                 \n",
            " dense_45 (Dense)            (None, 1)                 77        \n",
            "                                                                 \n",
            "=================================================================\n",
            "Total params: 11,934\n",
            "Trainable params: 11,781\n",
            "Non-trainable params: 153\n",
            "_________________________________________________________________\n"
          ]
        }
      ]
    },
    {
      "cell_type": "code",
      "source": [
        "%%time\n",
        "history = dnn_model.fit(\n",
        "    train_X,\n",
        "    train_Y,\n",
        "    validation_split=0.2,\n",
        "    verbose=0, epochs=100)"
      ],
      "metadata": {
        "colab": {
          "base_uri": "https://localhost:8080/"
        },
        "id": "_MuF7spCIP5b",
        "outputId": "b2c5cffb-ffcd-4f09-c082-f08572c08817"
      },
      "execution_count": 170,
      "outputs": [
        {
          "output_type": "stream",
          "name": "stdout",
          "text": [
            "CPU times: user 53.6 s, sys: 2.68 s, total: 56.3 s\n",
            "Wall time: 45.6 s\n"
          ]
        }
      ]
    },
    {
      "cell_type": "code",
      "source": [
        "plot_loss(history)"
      ],
      "metadata": {
        "colab": {
          "base_uri": "https://localhost:8080/",
          "height": 455
        },
        "id": "Ql3wWxvsIS33",
        "outputId": "1d615c1a-b90b-4651-97d3-4554b5fa9187"
      },
      "execution_count": 171,
      "outputs": [
        {
          "output_type": "display_data",
          "data": {
            "text/plain": [
              "<Figure size 640x480 with 1 Axes>"
            ],
            "image/png": "[encoded data removed]"
          },
          "metadata": {}
        }
      ]
    },
    {
      "cell_type": "markdown",
      "source": [
        "##Experiment 3\n",
        "- Sequential \n",
        "- adamW\n",
        "- relu"
      ],
      "metadata": {
        "id": "dNwEZkurKiOG"
      }
    }
  ]
}